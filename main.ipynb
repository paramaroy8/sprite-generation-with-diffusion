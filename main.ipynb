{
  "nbformat": 4,
  "nbformat_minor": 0,
  "metadata": {
    "colab": {
      "provenance": [],
      "gpuType": "T4"
    },
    "kernelspec": {
      "name": "python3",
      "display_name": "Python 3"
    },
    "language_info": {
      "name": "python"
    },
    "accelerator": "GPU"
  },
  "cells": [
    {
      "cell_type": "code",
      "execution_count": 59,
      "metadata": {
        "id": "fX-HnDfRpXcz"
      },
      "outputs": [],
      "source": [
        "from tqdm import tqdm\n",
        "import torch\n",
        "import torch.nn as nn\n",
        "import torch.nn.functional as F\n",
        "from torch.utils.data import DataLoader\n",
        "from torchvision import models, transforms\n",
        "from torchvision.utils import save_image, make_grid\n",
        "import matplotlib.pyplot as plt\n",
        "import numpy as np"
      ]
    },
    {
      "cell_type": "code",
      "source": [
        "# add project folder path\n",
        "\n",
        "import sys\n",
        "sys.path.append('sprite-image-generation')"
      ],
      "metadata": {
        "id": "JGwg66hmpfmL"
      },
      "execution_count": 57,
      "outputs": []
    },
    {
      "cell_type": "code",
      "source": [
        "from diffusion_utilities import *\n",
        "from model import *\n",
        "from train import *\n",
        "from denoise import *"
      ],
      "metadata": {
        "id": "HzZXSC1RpxrE"
      },
      "execution_count": 3,
      "outputs": []
    },
    {
      "cell_type": "code",
      "source": [
        "# diffusion hyperparameters\n",
        "timesteps = 500\n",
        "\n",
        "# noise range\n",
        "beta1 = 1e-4\n",
        "beta2 = 0.02\n",
        "\n",
        "# network hyperparameters\n",
        "device = torch.device(\"cuda:0\" if torch.cuda.is_available() else torch.device('cpu'))\n",
        "n_feat = 64 # 64 hidden dimension feature\n",
        "n_cfeat = 5 # context vector is of size 5\n",
        "height = 16 # 16x16 image\n",
        "save_dir = 'sprite-image-generation/c_weights/'\n",
        "\n",
        "# training hyperparameters\n",
        "batch_size = 100\n",
        "n_epoch = 32\n",
        "lrate=1e-3 # learning rate for neural network"
      ],
      "metadata": {
        "id": "TNlNSPYPp1an"
      },
      "execution_count": 4,
      "outputs": []
    },
    {
      "cell_type": "code",
      "source": [
        "# construct model\n",
        "nn_model = ContextUnet(in_channels=3, n_feat=n_feat, n_cfeat=n_cfeat, height=height).to(device)"
      ],
      "metadata": {
        "id": "p0JSEXTDp1YB"
      },
      "execution_count": 5,
      "outputs": []
    },
    {
      "cell_type": "markdown",
      "source": [
        "Construct DDPM noise schedule"
      ],
      "metadata": {
        "id": "S7eDVsge9cCe"
      }
    },
    {
      "cell_type": "code",
      "source": [
        "# create set of noise values for each timestep\n",
        "b_t = (beta2 - beta1) * torch.linspace(0, 1, timesteps + 1, device=device) + beta1\n",
        "\n",
        "# portion of original image left\n",
        "a_t = 1 - b_t\n",
        "ab_t = torch.cumsum(a_t.log(), dim=0).exp()\n",
        "\n",
        "# no noise at starting point\n",
        "ab_t[0] = 1"
      ],
      "metadata": {
        "id": "9cjNphcbp1Vr"
      },
      "execution_count": 6,
      "outputs": []
    },
    {
      "cell_type": "markdown",
      "source": [
        "Load Dataset"
      ],
      "metadata": {
        "id": "VXhtuFkb99i9"
      }
    },
    {
      "cell_type": "code",
      "source": [
        "# load dataset and construct optimizer\n",
        "dataset = CustomDataset(\"sprite-image-generation/sprites_1788_16x16.npy\", \"sprite-image-generation/sprite_labels_nc_1788_16x16.npy\", transform, null_context=False)\n",
        "dataloader = DataLoader(dataset, batch_size=batch_size, shuffle=True, num_workers=1)"
      ],
      "metadata": {
        "id": "fRdkZCQzp1TV",
        "colab": {
          "base_uri": "https://localhost:8080/"
        },
        "outputId": "f440d664-83c7-4663-df8f-afb3eca622a2"
      },
      "execution_count": 7,
      "outputs": [
        {
          "output_type": "stream",
          "name": "stdout",
          "text": [
            "sprite shape: (89400, 16, 16, 3)\n",
            "labels shape: (89400, 5)\n"
          ]
        }
      ]
    },
    {
      "cell_type": "code",
      "source": [
        "forward_diffusion(dataloader, nn_model, n_epoch, lrate, timesteps, save_dir, ab_t, device)"
      ],
      "metadata": {
        "id": "swZ2anp4p1Oo",
        "colab": {
          "base_uri": "https://localhost:8080/"
        },
        "outputId": "9c0d339b-ca92-4f78-ce0f-5f96e7fa6c03"
      },
      "execution_count": null,
      "outputs": [
        {
          "output_type": "stream",
          "name": "stdout",
          "text": [
            "epoch 0\n",
            "epoch 1\n",
            "epoch 2\n",
            "epoch 3\n",
            "epoch 4\n",
            "epoch 5\n",
            "epoch 6\n",
            "epoch 7\n",
            "epoch 8\n",
            "epoch 9\n",
            "epoch 10\n",
            "epoch 11\n",
            "epoch 12\n",
            "epoch 13\n",
            "epoch 14\n",
            "epoch 15\n",
            "epoch 16\n",
            "epoch 17\n",
            "epoch 18\n",
            "epoch 19\n",
            "epoch 20\n",
            "epoch 21\n",
            "epoch 22\n",
            "epoch 23\n",
            "epoch 24\n",
            "epoch 25\n",
            "epoch 26\n",
            "epoch 27\n",
            "epoch 28\n",
            "epoch 29\n",
            "epoch 30\n",
            "epoch 31\n"
          ]
        }
      ]
    },
    {
      "cell_type": "markdown",
      "source": [
        "Denoise with DDPM"
      ],
      "metadata": {
        "id": "TWaLAkjJCqXb"
      }
    },
    {
      "cell_type": "code",
      "source": [
        "# choose the model whose weight to use during denoising\n",
        "model_number = 31\n",
        "\n",
        "save_rate = 20\n",
        "\n",
        "# number of noise elements we want to generate\n",
        "n_sample = 32"
      ],
      "metadata": {
        "id": "Gx6zwFRjasmT"
      },
      "execution_count": 8,
      "outputs": []
    },
    {
      "cell_type": "markdown",
      "source": [
        "Generate new images with the given context"
      ],
      "metadata": {
        "id": "Gx4_aW-We5gS"
      }
    },
    {
      "cell_type": "markdown",
      "source": [
        "Contexts can be randomly generated, user-defined and mixed."
      ],
      "metadata": {
        "id": "_D-wDs7LhSTu"
      }
    },
    {
      "cell_type": "code",
      "source": [
        "def show_images(imgs, nrow=2):\n",
        "    _, axs = plt.subplots(nrow, imgs.shape[0] // nrow, figsize=(4,2 ))\n",
        "    axs = axs.flatten()\n",
        "    for img, ax in zip(imgs, axs):\n",
        "        img = (img.permute(1, 2, 0).clip(-1, 1).detach().cpu().numpy() + 1) / 2\n",
        "        ax.set_xticks([])\n",
        "        ax.set_yticks([])\n",
        "        ax.imshow(img)\n",
        "    plt.show()"
      ],
      "metadata": {
        "id": "Gf4ffjSZiqxE"
      },
      "execution_count": 9,
      "outputs": []
    },
    {
      "cell_type": "markdown",
      "source": [
        "**Randomly Generated Context**"
      ],
      "metadata": {
        "id": "QQtpJlejyZVw"
      }
    },
    {
      "cell_type": "code",
      "source": [
        "random_context = F.one_hot(torch.randint(0, 5, (32,)), 5).to(device=device).float()\n",
        "\n",
        "samples, _ = DDPM_reverse_diffusion(n_sample, height, random_context, save_rate, device, timesteps, nn_model, model_number, save_dir, b_t, a_t, ab_t)\n",
        "\n",
        "show_images(samples)"
      ],
      "metadata": {
        "colab": {
          "base_uri": "https://localhost:8080/",
          "height": 154
        },
        "id": "cBL_0Ij_e4nW",
        "outputId": "117e3b10-86ff-4d39-d7bc-eb57bed66471"
      },
      "execution_count": 60,
      "outputs": [
        {
          "output_type": "stream",
          "name": "stdout",
          "text": [
            "Loaded in Context Model\n"
          ]
        },
        {
          "output_type": "display_data",
          "data": {
            "text/plain": [
              "<Figure size 400x200 with 32 Axes>"
            ],
            "image/png": "[encoded data removed]"
          },
          "metadata": {}
        }
      ]
    },
    {
      "cell_type": "markdown",
      "source": [
        "User Defined Context\n",
        "\n",
        "5 categories were used in this project. Each column in the context refers to each category.\n",
        "Categories: hero, non-hero, food, spell, side-facing\n",
        "\n",
        "In the context defined here, we have 2 images for each of these categories except spell."
      ],
      "metadata": {
        "id": "dP7bMD70mwBm"
      }
    },
    {
      "cell_type": "code",
      "source": [
        "user_context = torch.tensor([\n",
        "    [1,0,0,0,0],  # human\n",
        "    [1,0,0,0,0],\n",
        "    [0,0,0,0,1],  # side-facing\n",
        "    [0,0,0,0,1],\n",
        "    [0,1,0,0,0],  # non-hero\n",
        "    [0,1,0,0,0],\n",
        "    [0,0,1,0,0],  # food\n",
        "    [0,0,1,0,0],\n",
        "]).float().to(device)\n",
        "\n",
        "samples, _ = DDPM_reverse_diffusion(user_context.shape[0], height, user_context, save_rate, device, timesteps, nn_model, model_number, save_dir, b_t, a_t, ab_t)\n",
        "\n",
        "show_images(samples)"
      ],
      "metadata": {
        "id": "QDTor6U4aumF",
        "colab": {
          "base_uri": "https://localhost:8080/",
          "height": 205
        },
        "outputId": "6a02d861-0f19-4363-ef7c-6e1fe96bf9db"
      },
      "execution_count": 55,
      "outputs": [
        {
          "output_type": "stream",
          "name": "stdout",
          "text": [
            "Loaded in Context Model\n"
          ]
        },
        {
          "output_type": "display_data",
          "data": {
            "text/plain": [
              "<Figure size 400x200 with 8 Axes>"
            ],
            "image/png": "[encoded data removed]"
          },
          "metadata": {}
        }
      ]
    },
    {
      "cell_type": "markdown",
      "source": [
        "**Observation**:\n",
        "\n",
        "In this picture, the first two pictures belong to human category. In these pictures, human like features are clearly observed. By default, images in this category are front-facing.\n",
        "\n",
        "The third and fourth images include a person and an animal, both looking sideways - in this case, towards each other.\n",
        "\n",
        "The fifth and sixth images represent non-hero characters. Here, these characters have non-human features.\n",
        "\n",
        "The fifth and sixth images represent food. For example, the sixth image appears to be an image of a mango."
      ],
      "metadata": {
        "id": "VGIRB7wLtaWn"
      }
    },
    {
      "cell_type": "markdown",
      "source": [
        "**Mixed Context**\n",
        "\n",
        "The context values can be modified to achieve a combined image."
      ],
      "metadata": {
        "id": "0SZ-VlYnoN0G"
      }
    },
    {
      "cell_type": "code",
      "source": [
        "mixed_context = torch.tensor([\n",
        "    # hero, non-hero, food, spell, side-facing\n",
        "    [1,0,0,0,0],      # human\n",
        "    [1,0,0.72,0,0],   # human, food\n",
        "    [0,0.1,1,0,0],    # non-hero, food\n",
        "    [1,0,0,0,1],      # human, side-facing\n",
        "    [1,1,0,0,0],      # human, non-hero\n",
        "    [1,0,0.3,0.7,0]   # human, food, spell\n",
        "]).float().to(device)\n",
        "\n",
        "samples, _ = DDPM_reverse_diffusion(mixed_context.shape[0], height, mixed_context, save_rate, device, timesteps, nn_model, model_number, save_dir, b_t, a_t, ab_t)\n",
        "\n",
        "show_images(samples)"
      ],
      "metadata": {
        "id": "OnEgEc0yaujd",
        "colab": {
          "base_uri": "https://localhost:8080/",
          "height": 208
        },
        "outputId": "28165015-87ae-4c7a-e8b9-ec53a8196025"
      },
      "execution_count": 50,
      "outputs": [
        {
          "output_type": "stream",
          "name": "stdout",
          "text": [
            "Loaded in Context Model\n"
          ]
        },
        {
          "output_type": "display_data",
          "data": {
            "text/plain": [
              "<Figure size 400x200 with 6 Axes>"
            ],
            "image/png": "[encoded data removed]"
          },
          "metadata": {}
        }
      ]
    },
    {
      "cell_type": "markdown",
      "source": [
        "**Observation**:\n",
        "\n",
        "In this picture, the first picture can be clearly identified as a human. But the second picture is a combination of human and food. Thus, the human shape is not quite clear.\n",
        "\n",
        "The third image looks like an image of banana but due to the presence of non-hero element, the final output is blurred.\n",
        "\n",
        "The fourth image is a combination of front-facing and side-facing human. Thus, no clear shape can be observed.\n",
        "\n",
        "The fifth image is a combination of hero and non-hero. A clear human like shape is thus observed.\n",
        "\n",
        "The last image is a combination of human, food and spell. Since the human category has higher value in the context, a clear outline of a human is observed. However, due to the presence of other categories, the final output is has food like appearance."
      ],
      "metadata": {
        "id": "SRgcwjmzqQI3"
      }
    }
  ]
}